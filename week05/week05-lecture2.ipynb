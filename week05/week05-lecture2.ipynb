{
 "cells": [
  {
   "cell_type": "markdown",
   "metadata": {},
   "source": [
    "## Week 5 - Custom Modules\n",
    "\n",
    "In this part of the lecture, we're going to write our own custom module.  To get this to work, create a separate new notebook in this same directory.  Name the notebook \"week05\"."
   ]
  },
  {
   "cell_type": "code",
   "execution_count": null,
   "metadata": {
    "collapsed": true
   },
   "outputs": [],
   "source": [
    "# In order to use our own custom modules we build within Jupyter,\n",
    "# we have to use a custom importer.  I installed this module on \n",
    "# the server based on some instructions I found here:\n",
    "# http://jupyter-notebook.readthedocs.io/en/latest/examples/Notebook/Importing%20Notebooks.html\n",
    "# Note that you have to do this once in your session in order to \n",
    "# import your .ipynb files as modules.\n",
    "\n",
    "import jupyterimporter"
   ]
  },
  {
   "cell_type": "code",
   "execution_count": null,
   "metadata": {
    "collapsed": false
   },
   "outputs": [],
   "source": [
    "# Note that if you run the import again, it won't reimport any changes you've made to the week05.ipynb\n",
    "import week05\n",
    "\n",
    "# If you make changes to your week05 notebook, then you can reload it this way:\n",
    "import imp\n",
    "imp.reload(week05)"
   ]
  },
  {
   "cell_type": "code",
   "execution_count": null,
   "metadata": {
    "collapsed": false
   },
   "outputs": [],
   "source": [
    "week05.lb2kg(1)"
   ]
  },
  {
   "cell_type": "code",
   "execution_count": null,
   "metadata": {
    "collapsed": false
   },
   "outputs": [],
   "source": [
    "week05.in2m(1)"
   ]
  }
 ],
 "metadata": {
  "kernelspec": {
   "display_name": "Python 3",
   "language": "python",
   "name": "python3"
  },
  "language_info": {
   "codemirror_mode": {
    "name": "ipython",
    "version": 3
   },
   "file_extension": ".py",
   "mimetype": "text/x-python",
   "name": "python",
   "nbconvert_exporter": "python",
   "pygments_lexer": "ipython3",
   "version": "3.4.3"
  }
 },
 "nbformat": 4,
 "nbformat_minor": 0
}

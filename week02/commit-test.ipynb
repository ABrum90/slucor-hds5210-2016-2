{
 "cells": [
  {
   "cell_type": "code",
   "execution_count": 1,
   "metadata": {
    "collapsed": true
   },
   "outputs": [],
   "source": [
    "# do nothing"
   ]
  },
  {
   "cell_type": "code",
   "execution_count": 4,
   "metadata": {
    "collapsed": true
   },
   "outputs": [],
   "source": [
    "# do something more"
   ]
  },
  {
   "cell_type": "code",
   "execution_count": 3,
   "metadata": {
    "collapsed": false
   },
   "outputs": [
    {
     "name": "stdout",
     "output_type": "stream",
     "text": [
      "On branch week03-grading\n",
      "Untracked files:\n",
      "\t../week01/Untitled.ipynb\n",
      "\t../week01/Untitled1.ipynb\n",
      "\t../week01/Untitled2.ipynb\n",
      "\t../week01/lecture01.ipynb\n",
      "\t../week01/lecture01_three.ipynb\n",
      "\t../week01/lecture01_two.ipynb\n",
      "\tUntitled.ipynb\n",
      "\t../week03/assignment03-solution.ipynb\n",
      "\n",
      "nothing added to commit but untracked files present\n",
      "Branch week03-grading set up to track remote branch week03-grading from origin.\n"
     ]
    },
    {
     "name": "stderr",
     "output_type": "stream",
     "text": [
      "To git@github.com:paulboal/slucor-hds5210-2016-2-private.git\n",
      " * [new branch]      week03-grading -> week03-grading\n"
     ]
    }
   ],
   "source": [
    "%%bash\n",
    "git add commit-test.ipynb\n",
    "git commit -a -m \"Adding my new file\"\n",
    "git push --set-upstream origin week03-grading"
   ]
  }
 ],
 "metadata": {
  "kernelspec": {
   "display_name": "Python 3",
   "language": "python",
   "name": "python3"
  },
  "language_info": {
   "codemirror_mode": {
    "name": "ipython",
    "version": 3
   },
   "file_extension": ".py",
   "mimetype": "text/x-python",
   "name": "python",
   "nbconvert_exporter": "python",
   "pygments_lexer": "ipython3",
   "version": "3.4.3"
  }
 },
 "nbformat": 4,
 "nbformat_minor": 0
}

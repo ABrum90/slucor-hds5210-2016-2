{
 "cells": [
  {
   "cell_type": "markdown",
   "metadata": {},
   "source": [
    "## Welcome to HDS5210\n",
    "\n",
    "To help develop some good programming habits during this class, one thing we will do is use GitHub.com to manage weekly assignments. Once you've created a GitHub.com account, you can follow the instructions below to get a current copy of the course materials and exercises.\n",
    "\n",
    "GitHub.com uses a protocol called SSH (Secure SHell) to manage communications between client computers and its services. The SSH protocol uses a private/public key pair to encrypt communications and verify the authenticity of users. For that protocol to work, GitHub.com has to know a public key, whose private key is configured on the computer that will be running git commands, in this case, our Jupyter server.  You can also do commenads like this on your own laptop if you want to access the class files on your local machine rather than only through the web interface.\n"
   ]
  },
  {
   "cell_type": "code",
   "execution_count": 10,
   "metadata": {
    "collapsed": false
   },
   "outputs": [
    {
     "name": "stdout",
     "output_type": "stream",
     "text": [
      "ssh-rsa AAAAB3NzaC1yc2EAAAADAQABAAABAQC8rwzDY9VBBz/lW9rXXdkiYuqOacgy+NCWF0IP39y/dImeIkm4oYBA/BFrE/Nw2n6l8TtgKR3FnbdJVXNm9XxdpStDcNnQ2KfAdokuB8jvFnQvgb4PLvj7dSSrXvlaaa0LuHvxqywLxme00W3fChwUt70YNzdoYtHOju6czDdOECo9P7WrvebxKkOtm1wqTnekQsZsQq2fzFnflOzYnjT38BMMkEEknl77usp13VPg7VQJljZnlCaoqRqXK/IZ2dJ2rmCDioyJPu7v7gH5QRYi0KQHjl9omDbByLdjlA43l1jPOHxKgMlRJFbgtewiJ7abA68vuPS7Pv/c5cJuW4jl paulboal@ip-172-31-1-36\n"
     ]
    }
   ],
   "source": [
    "%%bash\n",
    "cd ~\n",
    "rm -rf .ssh\n",
    "ssh-keygen -t rsa -N \"\" -f ~/.ssh/id_rsa -q\n",
    "cat ~/.ssh/id_rsa.pub"
   ]
  },
  {
   "cell_type": "markdown",
   "metadata": {},
   "source": [
    "**Add SSH Key to GitHub.com**\n",
    "\n",
    "Take the value you get from above and add it as an SSH key in GitHub.com.\n",
    "1. Login to GitHub.com\n",
    "2. Click your profile image in the upper-right corner and choose `Your Profile`\n",
    "3. Click `Edit Profile` in the upper-right corner\n",
    "4. Choose `SSH and GPG Keys` from the left-hand menu\n",
    "5. Click `New SSH Key` in the upper-right corner\n",
    "6. Use a title of something like `SLUCOR` and then paste the text from above into the key text box.\n",
    "7. Click `Add SSH Key`"
   ]
  },
  {
   "cell_type": "code",
   "execution_count": 15,
   "metadata": {
    "collapsed": false
   },
   "outputs": [
    {
     "name": "stdout",
     "output_type": "stream",
     "text": [
      "total 28\n",
      "-rw-r--r-- 1 paulboal paulboal  1076 Aug 15 04:49 LICENSE\n",
      "-rw-r--r-- 1 paulboal paulboal   520 Aug 15 04:49 README.md\n",
      "-rw-r--r-- 1 paulboal paulboal 10487 Aug 15 04:49 SYLLABUS.md\n",
      "drwxr-xr-x 2 paulboal paulboal  4096 Aug 15 04:49 week00\n",
      "drwxr-xr-x 2 paulboal paulboal  4096 Aug 15 04:49 week01\n"
     ]
    },
    {
     "name": "stderr",
     "output_type": "stream",
     "text": [
      "Cloning into 'slucor-hds5210-2016-2'...\n"
     ]
    }
   ],
   "source": [
    "%%bash\n",
    "rm -rf slucor-hds5210-2016-2\n",
    "echo -e \"Host github.com\\n\\tStrictHostKeyChecking no\\n\" >> ~/.ssh/config\n",
    "git clone git@github.com:paulboal/slucor-hds5210-2016-2.git\n",
    "ls -l slucor-hds5210-2016-2"
   ]
  },
  {
   "cell_type": "code",
   "execution_count": null,
   "metadata": {
    "collapsed": true
   },
   "outputs": [],
   "source": []
  }
 ],
 "metadata": {
  "kernelspec": {
   "display_name": "Python 3",
   "language": "python",
   "name": "python3"
  },
  "language_info": {
   "codemirror_mode": {
    "name": "ipython",
    "version": 3
   },
   "file_extension": ".py",
   "mimetype": "text/x-python",
   "name": "python",
   "nbconvert_exporter": "python",
   "pygments_lexer": "ipython3",
   "version": "3.4.3"
  }
 },
 "nbformat": 4,
 "nbformat_minor": 0
}

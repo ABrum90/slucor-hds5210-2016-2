{
 "cells": [
  {
   "cell_type": "markdown",
   "metadata": {},
   "source": [
    "_SLUCOR HDS5210 - Programming for Health Data Science - 2016 Fall_\n",
    "\n",
    "Week 3 (Sep 7) Exercises\n",
    "===\n",
    "\n",
    "Before starting, be sure that you have completed the GitHub setup from week 2 and have your hds5210-week02 repository setup from the homework last assignments.  You'll continue to use this Git project / repository to submit your assignments.\n",
    "\n",
    "#1 - Creating Functions\n",
    "---\n"
   ]
  },
  {
   "cell_type": "markdown",
   "metadata": {},
   "source": [
    "#2 - \n",
    "---\n",
    "\n"
   ]
  },
  {
   "cell_type": "markdown",
   "metadata": {},
   "source": [
    "#3 -\n",
    "---\n"
   ]
  },
  {
   "cell_type": "markdown",
   "metadata": {},
   "source": [
    "#4 - Parsing Dosage Amounts and Units\n",
    "---\n",
    "\n",
    "Create a function that will take as input an infusion doage value and unit in the format `# volume/time` such as `45 mg/hr` or `0.2 L/hr`, and return just the numeric part of the dosage.  It should return the numeric part as a floating point decimal number so that calculations can easily be done with the number.\n",
    "\n",
    "Demonstrate that your function works correctly using each of these tests:\n",
    "```\n",
    "1.0 L/hr\n",
    "10 mg/hr\n",
    "0.75 g/day\n",
    "```"
   ]
  },
  {
   "cell_type": "markdown",
   "metadata": {},
   "source": [
    "\n",
    "## If you need any help remembing how to commit your work, look here:\n",
    "\n",
    "```\n",
    "%%bash\n",
    "cd ~/notebooks/hds5210-week02/\n",
    "git add week03-paulboal.ipynb\n",
    "git commit -a -m \"Adding homework for week 3\"\n",
    "git push\n",
    "```"
   ]
  }
 ],
 "metadata": {
  "kernelspec": {
   "display_name": "Python 3",
   "language": "python",
   "name": "python3"
  },
  "language_info": {
   "codemirror_mode": {
    "name": "ipython",
    "version": 3
   },
   "file_extension": ".py",
   "mimetype": "text/x-python",
   "name": "python",
   "nbconvert_exporter": "python",
   "pygments_lexer": "ipython3",
   "version": "3.4.3"
  }
 },
 "nbformat": 4,
 "nbformat_minor": 0
}
